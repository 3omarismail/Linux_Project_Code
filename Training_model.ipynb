{
 "cells": [
  {
   "cell_type": "code",
   "execution_count": 3,
   "id": "29f6728d",
   "metadata": {},
   "outputs": [],
   "source": [
    "import numpy as np\n",
    "import pandas as pd\n",
    "import matplotlib.pyplot as plt\n",
    "import seaborn as sns\n",
    "\n",
    "from sklearn.model_selection import train_test_split, cross_validate\n",
    "from sklearn.preprocessing import MinMaxScaler # Used for scaling\n",
    "from sklearn.metrics import accuracy_score, precision_score, recall_score, f1_score, make_scorer, confusion_matrix\n"
   ]
  },
  {
   "cell_type": "code",
   "execution_count": 4,
   "id": "5d13269a",
   "metadata": {},
   "outputs": [],
   "source": [
    "\n",
    "# Import individual classifiers\n",
    "from sklearn.naive_bayes import GaussianNB\n",
    "from sklearn.linear_model import LogisticRegression\n",
    "from sklearn.neighbors import KNeighborsClassifier\n",
    "from sklearn.svm import LinearSVC\n",
    "from sklearn.tree import DecisionTreeClassifier\n",
    "from sklearn.ensemble import RandomForestClassifier, VotingClassifier\n",
    "\n",
    "import joblib # For saving/loading models and scalers\n"
   ]
  },
  {
   "cell_type": "code",
   "execution_count": 5,
   "id": "b1022040",
   "metadata": {},
   "outputs": [
    {
     "name": "stdout",
     "output_type": "stream",
     "text": [
      "Processed dataset loaded successfully.\n",
      "   duration  protocol_type  service  flag  src_bytes  dst_bytes  land  \\\n",
      "0         0              1       19     9        491          0     0   \n",
      "1         0              2       41     9        146          0     0   \n",
      "2         0              1       46     5          0          0     0   \n",
      "3         0              1       22     9        232       8153     0   \n",
      "4         0              1       22     9        199        420     0   \n",
      "\n",
      "   wrong_fragment  urgent  num_failed_logins  ...  is_guest_login  count  \\\n",
      "0               0       0                  0  ...               0      2   \n",
      "1               0       0                  0  ...               0     13   \n",
      "2               0       0                  0  ...               0    123   \n",
      "3               0       0                  0  ...               0      5   \n",
      "4               0       0                  0  ...               0     30   \n",
      "\n",
      "   srv_count  diff_srv_rate  srv_diff_host_rate  dst_host_count  \\\n",
      "0          2           0.00                0.00             150   \n",
      "1          1           0.15                0.00             255   \n",
      "2          6           0.07                0.00             255   \n",
      "3          5           0.00                0.00              30   \n",
      "4         32           0.00                0.09             255   \n",
      "\n",
      "   dst_host_diff_srv_rate  dst_host_same_src_port_rate  \\\n",
      "0                    0.03                         0.17   \n",
      "1                    0.60                         0.88   \n",
      "2                    0.05                         0.00   \n",
      "3                    0.00                         0.03   \n",
      "4                    0.00                         0.00   \n",
      "\n",
      "   dst_host_srv_diff_host_rate  class  \n",
      "0                         0.00      1  \n",
      "1                         0.00      1  \n",
      "2                         0.00      0  \n",
      "3                         0.04      1  \n",
      "4                         0.00      1  \n",
      "\n",
      "[5 rows x 28 columns]\n",
      "<class 'pandas.core.frame.DataFrame'>\n",
      "RangeIndex: 25192 entries, 0 to 25191\n",
      "Data columns (total 28 columns):\n",
      " #   Column                       Non-Null Count  Dtype  \n",
      "---  ------                       --------------  -----  \n",
      " 0   duration                     25192 non-null  int64  \n",
      " 1   protocol_type                25192 non-null  int64  \n",
      " 2   service                      25192 non-null  int64  \n",
      " 3   flag                         25192 non-null  int64  \n",
      " 4   src_bytes                    25192 non-null  int64  \n",
      " 5   dst_bytes                    25192 non-null  int64  \n",
      " 6   land                         25192 non-null  int64  \n",
      " 7   wrong_fragment               25192 non-null  int64  \n",
      " 8   urgent                       25192 non-null  int64  \n",
      " 9   num_failed_logins            25192 non-null  int64  \n",
      " 10  logged_in                    25192 non-null  int64  \n",
      " 11  root_shell                   25192 non-null  int64  \n",
      " 12  su_attempted                 25192 non-null  int64  \n",
      " 13  num_file_creations           25192 non-null  int64  \n",
      " 14  num_shells                   25192 non-null  int64  \n",
      " 15  num_access_files             25192 non-null  int64  \n",
      " 16  num_outbound_cmds            25192 non-null  int64  \n",
      " 17  is_host_login                25192 non-null  int64  \n",
      " 18  is_guest_login               25192 non-null  int64  \n",
      " 19  count                        25192 non-null  int64  \n",
      " 20  srv_count                    25192 non-null  int64  \n",
      " 21  diff_srv_rate                25192 non-null  float64\n",
      " 22  srv_diff_host_rate           25192 non-null  float64\n",
      " 23  dst_host_count               25192 non-null  int64  \n",
      " 24  dst_host_diff_srv_rate       25192 non-null  float64\n",
      " 25  dst_host_same_src_port_rate  25192 non-null  float64\n",
      " 26  dst_host_srv_diff_host_rate  25192 non-null  float64\n",
      " 27  class                        25192 non-null  int64  \n",
      "dtypes: float64(5), int64(23)\n",
      "memory usage: 5.4 MB\n",
      "None\n"
     ]
    }
   ],
   "source": [
    "\n",
    "# --- 1. Load the Processed Dataset ---\n",
    "# IMPORTANT: Ensure 'processed_train_data.csv' is in the same directory as this script,\n",
    "# or provide the full correct path.\n",
    "try:\n",
    "    df = pd.read_csv('processed_train_data.csv')\n",
    "    print(\"Processed dataset loaded successfully.\")\n",
    "    print(df.head())\n",
    "    print(df.info())\n",
    "except FileNotFoundError:\n",
    "    print(\"Error: 'processed_train_data.csv' not found. Please ensure your data analysis script has been run and the file is present.\")\n",
    "    print(\"Exiting model training script.\")\n",
    "    exit()\n"
   ]
  },
  {
   "cell_type": "code",
   "execution_count": 6,
   "id": "08ce14c1",
   "metadata": {},
   "outputs": [
    {
     "name": "stdout",
     "output_type": "stream",
     "text": [
      "\n",
      "Original X shape: (25192, 27)\n",
      "Original y shape: (25192,)\n",
      "Original class distribution:\n",
      "class\n",
      "1    13449\n",
      "0    11743\n",
      "Name: count, dtype: int64\n"
     ]
    }
   ],
   "source": [
    "\n",
    "# --- 2. Separate Features (X) and Target (y) ---\n",
    "# 'class' is the target variable (0 for anomaly, 1 for normal )\n",
    "X = df.drop('class', axis=1)\n",
    "y = df['class']\n",
    "\n",
    "print(f\"\\nOriginal X shape: {X.shape}\")\n",
    "print(f\"Original y shape: {y.shape}\")\n",
    "print(f\"Original class distribution:\\n{y.value_counts()}\")\n"
   ]
  },
  {
   "cell_type": "code",
   "execution_count": 7,
   "id": "bf22b060",
   "metadata": {},
   "outputs": [
    {
     "name": "stdout",
     "output_type": "stream",
     "text": [
      "\n",
      "--- Handling Class Imbalance (Undersampling Anomalies) ---\n",
      "Balanced X shape: (14121, 27)\n",
      "Balanced y shape: (14121,)\n",
      "Balanced class distribution:\n",
      "class\n",
      "1    13449\n",
      "0      672\n",
      "Name: count, dtype: int64\n"
     ]
    }
   ],
   "source": [
    "\n",
    "# --- 3. Handle Class Imbalance (Undersampling Anomalies) ---\n",
    "print(\"\\n--- Handling Class Imbalance (Undersampling Anomalies) ---\")\n",
    "normal = X[y == 1]\n",
    "anomalies = X[y == 0]\n",
    "\n",
    "# Select random 5% of anomalies relative to the normal class size\n",
    "num_anomalies_to_select = int(len(normal) * 0.05)\n",
    "if num_anomalies_to_select == 0 and len(anomalies) > 0:\n",
    "    num_anomalies_to_select = 1\n",
    "elif num_anomalies_to_select > len(anomalies):\n",
    "    num_anomalies_to_select = len(anomalies)\n",
    "\n",
    "if num_anomalies_to_select > 0:\n",
    "    anomaly_indices = np.random.choice(anomalies.index, num_anomalies_to_select, replace=False)\n",
    "    selected_anomalies_X = X.loc[anomaly_indices]\n",
    "    selected_anomalies_y = y.loc[anomaly_indices]\n",
    "else:\n",
    "    selected_anomalies_X = pd.DataFrame()\n",
    "    selected_anomalies_y = pd.Series(dtype=int)\n",
    "\n",
    "# Combine normal class with selected anomalies\n",
    "X_balanced = pd.concat([normal, selected_anomalies_X])\n",
    "y_balanced = pd.concat([y[y == 1], selected_anomalies_y])\n",
    "\n",
    "# --- Custom Shuffle Function ---\n",
    "def shuffle_data(features, labels):\n",
    "    indices = np.arange(features.shape[0])\n",
    "    np.random.shuffle(indices)\n",
    "    return features.iloc[indices], labels.iloc[indices] # Use .iloc for positional indexing after shuffle\n",
    "\n",
    "# Shuffle the combined data to mix normal and anomaly instances\n",
    "X_balanced, y_balanced = shuffle_data(X_balanced, y_balanced)\n",
    "\n",
    "print(f\"Balanced X shape: {X_balanced.shape}\")\n",
    "print(f\"Balanced y shape: {y_balanced.shape}\")\n",
    "print(f\"Balanced class distribution:\\n{y_balanced.value_counts()}\")\n"
   ]
  },
  {
   "cell_type": "code",
   "execution_count": 8,
   "id": "92443099",
   "metadata": {},
   "outputs": [
    {
     "name": "stdout",
     "output_type": "stream",
     "text": [
      "\n",
      "--- Applying MinMaxScaler to Features ---\n"
     ]
    },
    {
     "data": {
      "text/plain": [
       "['minmax_scaler.pkl']"
      ]
     },
     "execution_count": 8,
     "metadata": {},
     "output_type": "execute_result"
    }
   ],
   "source": [
    "\n",
    "\n",
    "# --- 4. Feature Scaling ---\n",
    "# MinMaxScaler is generally good for Neural Networks, and often for other models too.\n",
    "# RobustScaler (from your original code) is good if you have many outliers.\n",
    "# We'll use MinMaxScaler here for consistency with the NN model.\n",
    "print(\"\\n--- Applying MinMaxScaler to Features ---\")\n",
    "scaler = MinMaxScaler()\n",
    "X_scaled = scaler.fit_transform(X_balanced)\n",
    "\n",
    "joblib.dump(scaler, 'minmax_scaler.pkl')"
   ]
  },
  {
   "cell_type": "code",
   "execution_count": 9,
   "id": "96c31590",
   "metadata": {},
   "outputs": [
    {
     "name": "stdout",
     "output_type": "stream",
     "text": [
      "\n",
      "Train and test datasets saved as 'train_data.csv' and 'test_data.csv'\n",
      "Train shape: (9884, 28) | Test shape: (4237, 28)\n"
     ]
    }
   ],
   "source": [
    "from sklearn.model_selection import train_test_split\n",
    "\n",
    "# Split the balanced and scaled data\n",
    "X_train, X_test, y_train, y_test = train_test_split(\n",
    "    X_scaled, y_balanced, test_size=0.3, random_state=42, stratify=y_balanced\n",
    ")\n",
    "\n",
    "# Convert back to DataFrames for saving\n",
    "X_train_df = pd.DataFrame(X_train, columns=X_balanced.columns)\n",
    "X_test_df = pd.DataFrame(X_test, columns=X_balanced.columns)\n",
    "y_train_df = pd.DataFrame(y_train.values, columns=['class'])\n",
    "y_test_df = pd.DataFrame(y_test.values, columns=['class'])\n",
    "\n",
    "# Combine features and labels for saving\n",
    "train_df = pd.concat([X_train_df, y_train_df], axis=1)\n",
    "test_df = pd.concat([X_test_df, y_test_df], axis=1)\n",
    "\n",
    "# Save to CSV\n",
    "train_df.to_csv('train_data.csv', index=False)\n",
    "test_df.to_csv('test_data.csv', index=False)\n",
    "\n",
    "print(\"\\nTrain and test datasets saved as 'train_data.csv' and 'test_data.csv'\")\n",
    "print(f\"Train shape: {train_df.shape} | Test shape: {test_df.shape}\")\n",
    "\n"
   ]
  },
  {
   "cell_type": "code",
   "execution_count": 10,
   "id": "1f7948ff",
   "metadata": {},
   "outputs": [],
   "source": [
    "\n",
    "# --- 5. Define Scoring Metrics for Cross-Validation ---\n",
    "scoring = {\n",
    "    'accuracy': make_scorer(accuracy_score),\n",
    "    'precision': make_scorer(precision_score, average='binary'),\n",
    "    'recall': make_scorer(recall_score, average='binary'),\n",
    "    'f1_score': make_scorer(f1_score, average='binary')\n",
    "}\n"
   ]
  },
  {
   "cell_type": "code",
   "execution_count": 11,
   "id": "641b352d",
   "metadata": {},
   "outputs": [],
   "source": [
    "\n",
    "# --- 6. Custom Function to Display Results (from your original code) ---\n",
    "def display_results(results):\n",
    "    metrics_data = {\n",
    "        \"Metric\": [\"Fit Time\", \"Score Time\", \"Accuracy\", \"Precision\", \"Recall\", \"F1 Score\"],\n",
    "        \"Value\": [\n",
    "            results[\"fit_time\"].mean(),\n",
    "            results[\"score_time\"].mean(),\n",
    "            results[\"test_accuracy\"].mean(),\n",
    "            results[\"test_precision\"].mean(),\n",
    "            results[\"test_recall\"].mean(),\n",
    "            results[\"test_f1_score\"].mean(),\n",
    "        ]\n",
    "    }\n",
    "    df_metrics = pd.DataFrame(metrics_data)\n",
    "    df_metrics.set_index(\"Metric\", inplace=True)\n",
    "    return df_metrics.T # Transpose for better display as in your original snippet\n",
    "\n"
   ]
  },
  {
   "cell_type": "code",
   "execution_count": 12,
   "id": "bbaff524",
   "metadata": {},
   "outputs": [
    {
     "name": "stdout",
     "output_type": "stream",
     "text": [
      "\n",
      "--- Training Gaussian Naive Bayes (GNB) ---\n",
      "Gaussian Naive Bayes Cross-Validation Results:\n",
      "Metric  Fit Time  Score Time  Accuracy  Precision    Recall  F1 Score\n",
      "Value   0.008438    0.012166  0.159145   0.993281  0.118015  0.210532\n",
      "GNB model saved as 'ids_gnb_model.pkl'\n"
     ]
    }
   ],
   "source": [
    "\n",
    "# --- Training and Evaluating Classifiers Step-by-Step ---\n",
    "\n",
    "# --- Classifier 1: Gaussian Naive Bayes ---\n",
    "print(\"\\n--- Training Gaussian Naive Bayes (GNB) ---\")\n",
    "NB = GaussianNB()\n",
    "results_nb = cross_validate(NB, X_train_df, y_train_df['class'], cv=5, scoring=scoring, return_train_score=False)\n",
    "print(\"Gaussian Naive Bayes Cross-Validation Results:\")\n",
    "print(display_results(results_nb))\n",
    "\n",
    "# Fit the model on the full balanced dataset for saving\n",
    "NB.fit(X_train_df, y_train_df['class'])\n",
    "joblib.dump(NB, 'ids_gnb_model.pkl')\n",
    "print(\"GNB model saved as 'ids_gnb_model.pkl'\")\n",
    "\n"
   ]
  },
  {
   "cell_type": "code",
   "execution_count": 13,
   "id": "3374fe7e",
   "metadata": {},
   "outputs": [
    {
     "name": "stdout",
     "output_type": "stream",
     "text": [
      "\n",
      "--- Training Logistic Regression (LR) ---\n",
      "\n",
      "Logistic Regression Cross-Validation Results:\n",
      "Metric  Fit Time  Score Time  Accuracy  Precision  Recall  F1 Score\n",
      "Value   0.026742     0.00863  0.984116   0.985223  0.9983  0.991718\n",
      "LR model saved as 'ids_lr_model.pkl'\n"
     ]
    }
   ],
   "source": [
    "\n",
    "# --- Classifier 2: Logistic Regression ---\n",
    "print(\"\\n--- Training Logistic Regression (LR) ---\")\n",
    "# 'newton-cholesky' is often fast for smaller datasets and L2 regularization\n",
    "LR = LogisticRegression(max_iter=7000, solver='newton-cholesky', random_state=42)\n",
    "results_lr = cross_validate(LR, X_train_df, y_train_df['class'], cv=5, scoring=scoring, return_train_score=False)\n",
    "print(\"\\nLogistic Regression Cross-Validation Results:\")\n",
    "print(display_results(results_lr))\n",
    "\n",
    "LR.fit(X_train_df, y_train_df['class'])\n",
    "joblib.dump(LR, 'ids_lr_model.pkl')\n",
    "print(\"LR model saved as 'ids_lr_model.pkl'\")\n",
    "\n"
   ]
  },
  {
   "cell_type": "code",
   "execution_count": 14,
   "id": "a9da3fc5",
   "metadata": {},
   "outputs": [
    {
     "name": "stdout",
     "output_type": "stream",
     "text": [
      "\n",
      "--- Training K-Nearest Neighbors (KNN) ---\n",
      "\n",
      "K-Nearest Neighbors Cross-Validation Results:\n",
      "Metric  Fit Time  Score Time  Accuracy  Precision    Recall  F1 Score\n",
      "Value   0.003707    0.159542  0.993424   0.995445  0.997663  0.996552\n",
      "KNN model saved as 'ids_knn_model.pkl'\n"
     ]
    }
   ],
   "source": [
    "\n",
    "# --- Classifier 3: K-Nearest Neighbors (KNN) ---\n",
    "print(\"\\n--- Training K-Nearest Neighbors (KNN) ---\")\n",
    "# Default n_neighbors=5. You might tune this hyperparameter.\n",
    "KNN = KNeighborsClassifier()\n",
    "results_knn = cross_validate(KNN, X_train_df, y_train_df['class'], cv=5, scoring=scoring, return_train_score=False)\n",
    "print(\"\\nK-Nearest Neighbors Cross-Validation Results:\")\n",
    "print(display_results(results_knn))\n",
    "\n",
    "KNN.fit(X_train_df, y_train_df['class'])\n",
    "joblib.dump(KNN, 'ids_knn_model.pkl')\n",
    "print(\"KNN model saved as 'ids_knn_model.pkl'\")\n"
   ]
  },
  {
   "cell_type": "code",
   "execution_count": 15,
   "id": "d197fe47",
   "metadata": {},
   "outputs": [
    {
     "name": "stdout",
     "output_type": "stream",
     "text": [
      "\n",
      "--- Training LinearSVC ---\n",
      "\n",
      "LinearSVC Cross-Validation Results:\n",
      "Metric  Fit Time  Score Time  Accuracy  Precision    Recall  F1 Score\n",
      "Value   0.013012     0.00963  0.984925   0.985744  0.998619  0.992139\n",
      "LinearSVC model saved as 'ids_svc_model.pkl'\n"
     ]
    }
   ],
   "source": [
    "\n",
    "\n",
    "# --- Classifier 4: Linear Support Vector Classifier (LinearSVC) ---\n",
    "print(\"\\n--- Training LinearSVC ---\")\n",
    "# LinearSVC requires data to be scaled, which X_scaled already is.\n",
    "# MinMaxScaler (0-1) is suitable, but StandardScaler (-1 to 1) is also common for SVMs.\n",
    "# You might need to adjust max_iter or tolerance (tol) for convergence.\n",
    "SVC = LinearSVC(max_iter=5000, random_state=42)\n",
    "# Note: your original code used MinMaxScaler before LinearSVC, but X_scaled is already MinMax scaled.\n",
    "# If you preferred RobustScaler for LinearSVC, you'd apply it here again after MinMaxScaler.\n",
    "# For simplicity, we'll use the already scaled X_scaled.\n",
    "results_svc = cross_validate(SVC, X_train_df, y_train_df['class'], cv=5, scoring=scoring, return_train_score=False)\n",
    "print(\"\\nLinearSVC Cross-Validation Results:\")\n",
    "print(display_results(results_svc))\n",
    "\n",
    "SVC.fit(X_train_df, y_train_df['class'])\n",
    "joblib.dump(SVC, 'ids_svc_model.pkl')\n",
    "print(\"LinearSVC model saved as 'ids_svc_model.pkl'\")\n",
    "\n"
   ]
  },
  {
   "cell_type": "code",
   "execution_count": 16,
   "id": "a3cfeb17",
   "metadata": {},
   "outputs": [
    {
     "name": "stdout",
     "output_type": "stream",
     "text": [
      "\n",
      "--- Training Decision Tree Classifier (DTC) ---\n",
      "\n",
      "Decision Tree Classifier Cross-Validation Results:\n",
      "Metric  Fit Time  Score Time  Accuracy  Precision    Recall  F1 Score\n",
      "Value   0.019294    0.010186  0.997369   0.998831  0.998407  0.998619\n",
      "DTC model saved as 'ids_dtc_model.pkl'\n"
     ]
    }
   ],
   "source": [
    "\n",
    "# --- Classifier 5: Decision Tree Classifier (DTC) ---\n",
    "print(\"\\n--- Training Decision Tree Classifier (DTC) ---\")\n",
    "# 'entropy' is a good criterion for impurity.\n",
    "DTC = DecisionTreeClassifier(criterion='entropy', random_state=42)\n",
    "results_dtc = cross_validate(DTC, X_train_df, y_train_df['class'], cv=5, scoring=scoring, return_train_score=False)\n",
    "print(\"\\nDecision Tree Classifier Cross-Validation Results:\")\n",
    "print(display_results(results_dtc))\n",
    "\n",
    "DTC.fit(X_train_df, y_train_df['class'])\n",
    "joblib.dump(DTC, 'ids_dtc_model.pkl')\n",
    "print(\"DTC model saved as 'ids_dtc_model.pkl'\")\n",
    "\n"
   ]
  },
  {
   "cell_type": "code",
   "execution_count": 17,
   "id": "da253d3f",
   "metadata": {},
   "outputs": [
    {
     "name": "stdout",
     "output_type": "stream",
     "text": [
      "\n",
      "--- Training Random Forest Classifier (RFC) ---\n",
      "\n",
      "Random Forest Classifier Cross-Validation Results:\n",
      "Metric  Fit Time  Score Time  Accuracy  Precision  Recall  F1 Score\n",
      "Value   0.186026    0.050921   0.99828   0.998198     1.0  0.999098\n",
      "RFC model saved as 'ids_rfc_model.pkl'\n"
     ]
    }
   ],
   "source": [
    "\n",
    "# --- Classifier 6: Random Forest Classifier (RFC) ---\n",
    "print(\"\\n--- Training Random Forest Classifier (RFC) ---\")\n",
    "# n_estimators is number of trees. 5 is very small; typically 100-500 is common.\n",
    "# Using 100 as a more standard starting point for better performance.\n",
    "RFC = RandomForestClassifier(n_estimators=100, random_state=42, n_jobs=-1) # n_jobs=-1 uses all CPU cores\n",
    "results_rfc = cross_validate(RFC, X_train_df, y_train_df['class'], cv=5, scoring=scoring, return_train_score=False)\n",
    "print(\"\\nRandom Forest Classifier Cross-Validation Results:\")\n",
    "print(display_results(results_rfc))\n",
    "\n",
    "RFC.fit(X_train_df, y_train_df['class'])\n",
    "joblib.dump(RFC, 'ids_rfc_model.pkl')\n",
    "print(\"RFC model saved as 'ids_rfc_model.pkl'\")\n",
    "\n"
   ]
  },
  {
   "cell_type": "code",
   "execution_count": 18,
   "id": "03c41d7a",
   "metadata": {},
   "outputs": [
    {
     "name": "stdout",
     "output_type": "stream",
     "text": [
      "\n",
      "--- Training Voting Classifier ---\n",
      "\n",
      "Voting Classifier Cross-Validation Results:\n",
      "Metric  Fit Time  Score Time  Accuracy  Precision    Recall  F1 Score\n",
      "Value   0.228463    0.146497  0.997875   0.998408  0.999363  0.998885\n",
      "Voting Classifier model saved as 'ids_vc_model.pkl'\n",
      "\n",
      "--- All Classifier Training Complete ---\n",
      "Trained models and the scaler have been saved as .pkl files.\n"
     ]
    }
   ],
   "source": [
    "\n",
    "# --- Classifier 7: Voting Classifier (Ensemble) ---\n",
    "print(\"\\n--- Training Voting Classifier ---\")\n",
    "# Use the *trained* models from above or re-initialize if needed.\n",
    "# For VotingClassifier, it's common to pass estimators that are already fit if you want to use\n",
    "# their learned parameters or just initialize them and let cross_validate fit them.\n",
    "# We'll pass the initialized ones so cross_validate fits them correctly within each fold.\n",
    "VC = VotingClassifier(\n",
    "    estimators=[\n",
    "        ('KNN', KNeighborsClassifier()), # Re-initialize KNN for consistent cross-validation\n",
    "        ('LR', LogisticRegression(max_iter=7000, solver='newton-cholesky', random_state=42)),\n",
    "        ('DTC', DecisionTreeClassifier(criterion='entropy', random_state=42)),\n",
    "        ('RFC', RandomForestClassifier(n_estimators=100, random_state=42, n_jobs=-1))\n",
    "    ],\n",
    "    voting='hard' # 'hard' for majority vote, 'soft' for probability averaging (if all support predict_proba)\n",
    ")\n",
    "results_vc = cross_validate(VC, X_train_df, y_train_df['class'], cv=5, scoring=scoring, return_train_score=False)\n",
    "print(\"\\nVoting Classifier Cross-Validation Results:\")\n",
    "print(display_results(results_vc))\n",
    "\n",
    "VC.fit(X_train_df, y_train_df['class'])\n",
    "joblib.dump(VC, 'ids_vc_model.pkl')\n",
    "print(\"Voting Classifier model saved as 'ids_vc_model.pkl'\")\n",
    "\n",
    "print(\"\\n--- All Classifier Training Complete ---\")\n",
    "print(\"Trained models and the scaler have been saved as .pkl files.\")\n"
   ]
  },
  {
   "cell_type": "code",
   "execution_count": 19,
   "id": "678ab971",
   "metadata": {},
   "outputs": [],
   "source": [
    "test_df = pd.read_csv(\"test_data.csv\")\n",
    "X_test = test_df.drop(\"class\", axis=1)\n",
    "y_test = test_df[\"class\"]\n",
    "\n"
   ]
  },
  {
   "cell_type": "code",
   "execution_count": 20,
   "id": "03284373",
   "metadata": {},
   "outputs": [],
   "source": [
    "model = joblib.load(\"ids_gnb_model.pkl\")\n"
   ]
  },
  {
   "cell_type": "code",
   "execution_count": 21,
   "id": "181a95de",
   "metadata": {},
   "outputs": [],
   "source": [
    "y_pred = model.predict(X_test)\n"
   ]
  },
  {
   "cell_type": "code",
   "execution_count": 22,
   "id": "4b4c021b",
   "metadata": {},
   "outputs": [
    {
     "name": "stdout",
     "output_type": "stream",
     "text": [
      "Confusion Matrix:\n",
      "[[ 198    4]\n",
      " [3571  464]]\n",
      "\n",
      "Classification Report:\n",
      "              precision    recall  f1-score   support\n",
      "\n",
      "           0       0.05      0.98      0.10       202\n",
      "           1       0.99      0.11      0.21      4035\n",
      "\n",
      "    accuracy                           0.16      4237\n",
      "   macro avg       0.52      0.55      0.15      4237\n",
      "weighted avg       0.95      0.16      0.20      4237\n",
      "\n"
     ]
    }
   ],
   "source": [
    "from sklearn.metrics import classification_report, mean_squared_error\n",
    "print(\"Confusion Matrix:\")\n",
    "print(confusion_matrix(y_test, y_pred))\n",
    "\n",
    "print(\"\\nClassification Report:\")\n",
    "print(classification_report(y_test, y_pred))\n"
   ]
  },
  {
   "cell_type": "code",
   "execution_count": 23,
   "id": "e85942b1",
   "metadata": {},
   "outputs": [
    {
     "name": "stdout",
     "output_type": "stream",
     "text": [
      "\n",
      "Total MSE: 0.8438\n"
     ]
    },
    {
     "data": {
      "image/png": "[encoded data removed]",
      "text/plain": [
       "<Figure size 1000x500 with 1 Axes>"
      ]
     },
     "metadata": {},
     "output_type": "display_data"
    }
   ],
   "source": [
    "# Compute MSE for each individual prediction (squared difference)\n",
    "mse_per_sample = (y_test - y_pred) ** 2\n",
    "\n",
    "# Compute total MSE\n",
    "total_mse = mean_squared_error(y_test, y_pred)\n",
    "print(f\"\\nTotal MSE: {total_mse:.4f}\")\n",
    "\n",
    "# Plot the MSE over sample index\n",
    "plt.figure(figsize=(10, 5))\n",
    "plt.plot(mse_per_sample.values, marker='o', linestyle='-', alpha=0.6)\n",
    "plt.title(\"MSE per Test Sample (Anomaly vs Normal Prediction Error)\")\n",
    "plt.xlabel(\"Sample Index\")\n",
    "plt.ylabel(\"Squared Error (0 or 1)\")\n",
    "plt.grid(True)\n",
    "plt.tight_layout()\n",
    "plt.show()\n"
   ]
  },
  {
   "cell_type": "code",
   "execution_count": 24,
   "id": "c48aa420",
   "metadata": {},
   "outputs": [],
   "source": [
    "from sklearn.svm import SVC\n",
    "from sklearn.model_selection import cross_validate\n",
    "from sklearn.metrics import classification_report, confusion_matrix, roc_curve, auc\n",
    "import matplotlib.pyplot as plt\n",
    "import joblib\n"
   ]
  },
  {
   "cell_type": "code",
   "execution_count": 25,
   "id": "cc5c4f06",
   "metadata": {},
   "outputs": [
    {
     "name": "stdout",
     "output_type": "stream",
     "text": [
      "\n",
      "--- Training Support Vector Machine (SVM) ---\n",
      "SVM Cross-Validation Results:\n",
      "Metric  Fit Time  Score Time  Accuracy  Precision    Recall  F1 Score\n",
      "Value   1.854827    0.131302  0.976123    0.99751  0.977374  0.987333\n",
      "SVM1 Cross-Validation Results:\n",
      "SVM model saved as 'ids_svm_model.pkl'\n"
     ]
    }
   ],
   "source": [
    "print(\"\\n--- Training Support Vector Machine (SVM) ---\")\n",
    "\n",
    "svm = SVC(kernel='rbf', class_weight='balanced', probability=True, random_state=42)\n",
    "\n",
    "\n",
    "\n",
    "# Cross-validation (optional but useful)\n",
    "results_svm = cross_validate(svm, X_train_df, y_train_df['class'], cv=5, scoring=scoring)\n",
    "\n",
    "print(\"SVM Cross-Validation Results:\")\n",
    "print(display_results(results_svm))\n",
    "print(\"SVM1 Cross-Validation Results:\")\n",
    "\n",
    "\n",
    "# Fit on full training data\n",
    "svm.fit(X_train_df, y_train_df['class'])\n",
    "\n",
    "# Save model\n",
    "joblib.dump(svm, 'ids_svm_model.pkl')\n",
    "print(\"SVM model saved as 'ids_svm_model.pkl'\")\n",
    "\n"
   ]
  },
  {
   "cell_type": "code",
   "execution_count": 26,
   "id": "70ad1978",
   "metadata": {},
   "outputs": [
    {
     "name": "stdout",
     "output_type": "stream",
     "text": [
      "\n",
      "Confusion Matrix:\n",
      "[[ 193    9]\n",
      " [ 101 3934]]\n",
      "\n",
      "Classification Report:\n",
      "              precision    recall  f1-score   support\n",
      "\n",
      "           0       0.66      0.96      0.78       202\n",
      "           1       1.00      0.97      0.99      4035\n",
      "\n",
      "    accuracy                           0.97      4237\n",
      "   macro avg       0.83      0.97      0.88      4237\n",
      "weighted avg       0.98      0.97      0.98      4237\n",
      "\n"
     ]
    }
   ],
   "source": [
    "# Load test data\n",
    "X_test = pd.read_csv(\"test_data.csv\").drop(\"class\", axis=1)\n",
    "y_test = pd.read_csv(\"test_data.csv\")[\"class\"]\n",
    "\n",
    "# Predict\n",
    "y_pred = svm.predict(X_test)\n",
    "\n",
    "# Confusion Matrix and Classification Report\n",
    "print(\"\\nConfusion Matrix:\")\n",
    "print(confusion_matrix(y_test, y_pred))\n",
    "\n",
    "print(\"\\nClassification Report:\")\n",
    "print(classification_report(y_test, y_pred))\n"
   ]
  },
  {
   "cell_type": "code",
   "execution_count": 27,
   "id": "90eb68f1",
   "metadata": {},
   "outputs": [
    {
     "data": {
      "image/png": "[encoded data removed]",
      "text/plain": [
       "<Figure size 800x600 with 1 Axes>"
      ]
     },
     "metadata": {},
     "output_type": "display_data"
    }
   ],
   "source": [
    "y_proba = svm.predict_proba(X_test)[:, 1]  # Probability of class 1 (normal)\n",
    "\n",
    "fpr, tpr, thresholds = roc_curve(y_test, y_proba)\n",
    "roc_auc = auc(fpr, tpr)\n",
    "\n",
    "plt.figure(figsize=(8, 6))\n",
    "plt.plot(fpr, tpr, color='darkorange', lw=2, label=f'ROC curve (AUC = {roc_auc:.2f})')\n",
    "plt.plot([0, 1], [0, 1], color='navy', linestyle='--')\n",
    "plt.xlim([0.0, 1.0])\n",
    "plt.ylim([0.0, 1.05])\n",
    "plt.xlabel('False Positive Rate')\n",
    "plt.ylabel('True Positive Rate')\n",
    "plt.title('SVM ROC Curve')\n",
    "plt.legend(loc='lower right')\n",
    "plt.grid(True)\n",
    "plt.show()\n"
   ]
  },
  {
   "cell_type": "code",
   "execution_count": 28,
   "id": "58f817d3",
   "metadata": {},
   "outputs": [
    {
     "name": "stdout",
     "output_type": "stream",
     "text": [
      "Epoch 1/30\n",
      "248/248 - 1s - loss: 0.1438 - accuracy: 0.9543 - precision: 0.9648 - recall: 0.9880 - val_loss: 0.0540 - val_accuracy: 0.9838 - val_precision: 0.9854 - val_recall: 0.9979 - 1s/epoch - 6ms/step\n",
      "Epoch 2/30\n",
      "248/248 - 0s - loss: 0.0579 - accuracy: 0.9851 - precision: 0.9872 - recall: 0.9972 - val_loss: 0.0359 - val_accuracy: 0.9874 - val_precision: 0.9900 - val_recall: 0.9968 - 346ms/epoch - 1ms/step\n",
      "Epoch 3/30\n",
      "248/248 - 0s - loss: 0.0459 - accuracy: 0.9879 - precision: 0.9901 - recall: 0.9972 - val_loss: 0.0317 - val_accuracy: 0.9919 - val_precision: 0.9953 - val_recall: 0.9963 - 327ms/epoch - 1ms/step\n",
      "Epoch 4/30\n",
      "248/248 - 0s - loss: 0.0405 - accuracy: 0.9899 - precision: 0.9912 - recall: 0.9983 - val_loss: 0.0321 - val_accuracy: 0.9929 - val_precision: 0.9974 - val_recall: 0.9952 - 322ms/epoch - 1ms/step\n",
      "Epoch 5/30\n",
      "248/248 - 0s - loss: 0.0374 - accuracy: 0.9905 - precision: 0.9922 - recall: 0.9979 - val_loss: 0.0277 - val_accuracy: 0.9934 - val_precision: 0.9958 - val_recall: 0.9974 - 382ms/epoch - 2ms/step\n",
      "Epoch 6/30\n",
      "248/248 - 0s - loss: 0.0338 - accuracy: 0.9920 - precision: 0.9934 - recall: 0.9983 - val_loss: 0.0269 - val_accuracy: 0.9944 - val_precision: 0.9968 - val_recall: 0.9974 - 348ms/epoch - 1ms/step\n",
      "Epoch 7/30\n",
      "248/248 - 0s - loss: 0.0321 - accuracy: 0.9920 - precision: 0.9933 - recall: 0.9984 - val_loss: 0.0268 - val_accuracy: 0.9929 - val_precision: 0.9963 - val_recall: 0.9963 - 415ms/epoch - 2ms/step\n",
      "Epoch 8/30\n",
      "248/248 - 0s - loss: 0.0307 - accuracy: 0.9922 - precision: 0.9935 - recall: 0.9983 - val_loss: 0.0238 - val_accuracy: 0.9949 - val_precision: 0.9963 - val_recall: 0.9984 - 417ms/epoch - 2ms/step\n",
      "Epoch 9/30\n",
      "248/248 - 0s - loss: 0.0280 - accuracy: 0.9938 - precision: 0.9943 - recall: 0.9992 - val_loss: 0.0236 - val_accuracy: 0.9954 - val_precision: 0.9968 - val_recall: 0.9984 - 368ms/epoch - 1ms/step\n",
      "Epoch 10/30\n",
      "248/248 - 0s - loss: 0.0278 - accuracy: 0.9938 - precision: 0.9944 - recall: 0.9991 - val_loss: 0.0241 - val_accuracy: 0.9965 - val_precision: 0.9979 - val_recall: 0.9984 - 377ms/epoch - 2ms/step\n",
      "Epoch 11/30\n",
      "248/248 - 0s - loss: 0.0281 - accuracy: 0.9939 - precision: 0.9946 - recall: 0.9991 - val_loss: 0.0215 - val_accuracy: 0.9954 - val_precision: 0.9968 - val_recall: 0.9984 - 401ms/epoch - 2ms/step\n",
      "Epoch 12/30\n",
      "248/248 - 0s - loss: 0.0274 - accuracy: 0.9939 - precision: 0.9947 - recall: 0.9989 - val_loss: 0.0211 - val_accuracy: 0.9954 - val_precision: 0.9968 - val_recall: 0.9984 - 397ms/epoch - 2ms/step\n",
      "Epoch 13/30\n",
      "248/248 - 0s - loss: 0.0269 - accuracy: 0.9939 - precision: 0.9948 - recall: 0.9988 - val_loss: 0.0205 - val_accuracy: 0.9954 - val_precision: 0.9968 - val_recall: 0.9984 - 370ms/epoch - 1ms/step\n",
      "Epoch 14/30\n",
      "248/248 - 0s - loss: 0.0248 - accuracy: 0.9947 - precision: 0.9954 - recall: 0.9991 - val_loss: 0.0217 - val_accuracy: 0.9960 - val_precision: 0.9974 - val_recall: 0.9984 - 369ms/epoch - 1ms/step\n",
      "Epoch 15/30\n",
      "248/248 - 0s - loss: 0.0252 - accuracy: 0.9941 - precision: 0.9947 - recall: 0.9991 - val_loss: 0.0180 - val_accuracy: 0.9965 - val_precision: 0.9974 - val_recall: 0.9989 - 385ms/epoch - 2ms/step\n",
      "Epoch 16/30\n",
      "248/248 - 0s - loss: 0.0245 - accuracy: 0.9942 - precision: 0.9948 - recall: 0.9991 - val_loss: 0.0193 - val_accuracy: 0.9960 - val_precision: 0.9979 - val_recall: 0.9979 - 375ms/epoch - 2ms/step\n",
      "Epoch 17/30\n",
      "248/248 - 0s - loss: 0.0233 - accuracy: 0.9947 - precision: 0.9954 - recall: 0.9991 - val_loss: 0.0181 - val_accuracy: 0.9965 - val_precision: 0.9974 - val_recall: 0.9989 - 352ms/epoch - 1ms/step\n",
      "Epoch 18/30\n",
      "248/248 - 0s - loss: 0.0250 - accuracy: 0.9946 - precision: 0.9954 - recall: 0.9989 - val_loss: 0.0170 - val_accuracy: 0.9965 - val_precision: 0.9974 - val_recall: 0.9989 - 343ms/epoch - 1ms/step\n",
      "Epoch 19/30\n",
      "248/248 - 0s - loss: 0.0230 - accuracy: 0.9943 - precision: 0.9954 - recall: 0.9987 - val_loss: 0.0172 - val_accuracy: 0.9965 - val_precision: 0.9974 - val_recall: 0.9989 - 352ms/epoch - 1ms/step\n",
      "Epoch 20/30\n",
      "248/248 - 0s - loss: 0.0213 - accuracy: 0.9948 - precision: 0.9956 - recall: 0.9989 - val_loss: 0.0154 - val_accuracy: 0.9970 - val_precision: 0.9974 - val_recall: 0.9995 - 382ms/epoch - 2ms/step\n",
      "Epoch 21/30\n",
      "248/248 - 0s - loss: 0.0218 - accuracy: 0.9946 - precision: 0.9952 - recall: 0.9991 - val_loss: 0.0169 - val_accuracy: 0.9960 - val_precision: 0.9974 - val_recall: 0.9984 - 328ms/epoch - 1ms/step\n",
      "Epoch 22/30\n",
      "248/248 - 0s - loss: 0.0221 - accuracy: 0.9946 - precision: 0.9956 - recall: 0.9987 - val_loss: 0.0167 - val_accuracy: 0.9965 - val_precision: 0.9974 - val_recall: 0.9989 - 366ms/epoch - 1ms/step\n",
      "Epoch 23/30\n",
      "248/248 - 0s - loss: 0.0223 - accuracy: 0.9946 - precision: 0.9951 - recall: 0.9992 - val_loss: 0.0191 - val_accuracy: 0.9949 - val_precision: 0.9979 - val_recall: 0.9968 - 340ms/epoch - 1ms/step\n",
      "Epoch 24/30\n",
      "248/248 - 0s - loss: 0.0223 - accuracy: 0.9946 - precision: 0.9955 - recall: 0.9988 - val_loss: 0.0161 - val_accuracy: 0.9965 - val_precision: 0.9974 - val_recall: 0.9989 - 338ms/epoch - 1ms/step\n",
      "Epoch 25/30\n",
      "248/248 - 0s - loss: 0.0238 - accuracy: 0.9943 - precision: 0.9954 - recall: 0.9987 - val_loss: 0.0181 - val_accuracy: 0.9965 - val_precision: 0.9979 - val_recall: 0.9984 - 330ms/epoch - 1ms/step\n",
      "Epoch 26/30\n",
      "248/248 - 0s - loss: 0.0195 - accuracy: 0.9951 - precision: 0.9959 - recall: 0.9989 - val_loss: 0.0171 - val_accuracy: 0.9960 - val_precision: 0.9963 - val_recall: 0.9995 - 325ms/epoch - 1ms/step\n",
      "Epoch 27/30\n",
      "248/248 - 0s - loss: 0.0218 - accuracy: 0.9952 - precision: 0.9958 - recall: 0.9992 - val_loss: 0.0164 - val_accuracy: 0.9965 - val_precision: 0.9974 - val_recall: 0.9989 - 326ms/epoch - 1ms/step\n",
      "Epoch 28/30\n",
      "248/248 - 0s - loss: 0.0207 - accuracy: 0.9954 - precision: 0.9958 - recall: 0.9995 - val_loss: 0.0163 - val_accuracy: 0.9965 - val_precision: 0.9974 - val_recall: 0.9989 - 330ms/epoch - 1ms/step\n",
      "Epoch 29/30\n",
      "248/248 - 0s - loss: 0.0204 - accuracy: 0.9949 - precision: 0.9958 - recall: 0.9989 - val_loss: 0.0155 - val_accuracy: 0.9970 - val_precision: 0.9974 - val_recall: 0.9995 - 334ms/epoch - 1ms/step\n",
      "Epoch 30/30\n",
      "248/248 - 0s - loss: 0.0204 - accuracy: 0.9952 - precision: 0.9958 - recall: 0.9992 - val_loss: 0.0164 - val_accuracy: 0.9970 - val_precision: 0.9974 - val_recall: 0.9995 - 342ms/epoch - 1ms/step\n",
      "133/133 [==============================] - 0s 973us/step - loss: 0.0245 - accuracy: 0.9958 - precision: 0.9958 - recall: 0.9998\n",
      "Test Accuracy: 0.9958, Precision: 0.9958, Recall: 0.9998\n",
      "133/133 [==============================] - 0s 734us/step\n"
     ]
    }
   ],
   "source": [
    "import tensorflow as tf\n",
    "from tensorflow import keras\n",
    "from tensorflow.keras.models import Sequential\n",
    "from tensorflow.keras.layers import Dense, Dropout\n",
    "\n",
    "from tensorflow.keras.optimizers import Adam\n",
    "\n",
    "# Build the model\n",
    "model = Sequential([\n",
    "    Dense(128, activation='relu', input_shape=(X_train.shape[1],)),  # input layer\n",
    "    Dropout(0.3),  # prevent overfitting\n",
    "    Dense(64, activation='relu'),  # hidden layer\n",
    "    Dropout(0.2),\n",
    "    Dense(1, activation='sigmoid')  # output layer for binary classification\n",
    "])\n",
    "\n",
    "# Compile the model\n",
    "model.compile(\n",
    "    optimizer=Adam(learning_rate=0.001),\n",
    "    loss='binary_crossentropy',\n",
    "    metrics=['accuracy', tf.keras.metrics.Precision(), tf.keras.metrics.Recall()]\n",
    ")\n",
    "\n",
    "\n",
    "\n",
    "# Train the model\n",
    "history = model.fit(\n",
    "    X_train, y_train,\n",
    "    epochs=30,\n",
    "    batch_size=32,\n",
    "    validation_split=0.2,\n",
    "    verbose=2\n",
    ")\n",
    "\n",
    "# Evaluate on test data\n",
    "loss, accuracy, precision, recall = model.evaluate(X_test, y_test)\n",
    "print(f\"Test Accuracy: {accuracy:.4f}, Precision: {precision:.4f}, Recall: {recall:.4f}\")\n",
    "\n",
    "# Predict probabilities\n",
    "y_pred_prob = model.predict(X_test)\n",
    "# Convert probs to class labels with threshold 0.5 (adjust if needed)\n",
    "y_pred = (y_pred_prob >= 0.5).astype(int)\n",
    "\n",
    "\n"
   ]
  },
  {
   "cell_type": "code",
   "execution_count": 29,
   "id": "b5a7249c",
   "metadata": {},
   "outputs": [
    {
     "name": "stdout",
     "output_type": "stream",
     "text": [
      "\n",
      "Confusion Matrix:\n",
      "[[ 185   17]\n",
      " [   1 4034]]\n",
      "\n",
      "Classification Report:\n",
      "              precision    recall  f1-score   support\n",
      "\n",
      "           0       0.99      0.92      0.95       202\n",
      "           1       1.00      1.00      1.00      4035\n",
      "\n",
      "    accuracy                           1.00      4237\n",
      "   macro avg       1.00      0.96      0.98      4237\n",
      "weighted avg       1.00      1.00      1.00      4237\n",
      "\n"
     ]
    }
   ],
   "source": [
    "# Confusion Matrix and Classification Report\n",
    "print(\"\\nConfusion Matrix:\")\n",
    "print(confusion_matrix(y_test, y_pred))\n",
    "\n",
    "print(\"\\nClassification Report:\")\n",
    "print(classification_report(y_test, y_pred))"
   ]
  },
  {
   "cell_type": "code",
   "execution_count": 30,
   "id": "788a33b6",
   "metadata": {},
   "outputs": [
    {
     "name": "stdout",
     "output_type": "stream",
     "text": [
      "Model: \"sequential\"\n",
      "_________________________________________________________________\n",
      " Layer (type)                Output Shape              Param #   \n",
      "=================================================================\n",
      " dense (Dense)               (None, 128)               3584      \n",
      "                                                                 \n",
      " dropout (Dropout)           (None, 128)               0         \n",
      "                                                                 \n",
      " dense_1 (Dense)             (None, 64)                8256      \n",
      "                                                                 \n",
      " dropout_1 (Dropout)         (None, 64)                0         \n",
      "                                                                 \n",
      " dense_2 (Dense)             (None, 1)                 65        \n",
      "                                                                 \n",
      "=================================================================\n",
      "Total params: 11905 (46.50 KB)\n",
      "Trainable params: 11905 (46.50 KB)\n",
      "Non-trainable params: 0 (0.00 Byte)\n",
      "_________________________________________________________________\n"
     ]
    }
   ],
   "source": [
    "model.summary()"
   ]
  },
  {
   "cell_type": "code",
   "execution_count": 31,
   "id": "4023a263",
   "metadata": {},
   "outputs": [
    {
     "name": "stdout",
     "output_type": "stream",
     "text": [
      "Confusion Matrix:\n",
      "[[ 185   17]\n",
      " [   3 4032]]\n",
      "\n",
      "Classification Report:\n",
      "              precision    recall  f1-score   support\n",
      "\n",
      "           0       0.98      0.92      0.95       202\n",
      "           1       1.00      1.00      1.00      4035\n",
      "\n",
      "    accuracy                           1.00      4237\n",
      "   macro avg       0.99      0.96      0.97      4237\n",
      "weighted avg       1.00      1.00      1.00      4237\n",
      "\n"
     ]
    },
    {
     "name": "stderr",
     "output_type": "stream",
     "text": [
      "c:\\Users\\User\\anaconda3\\envs\\env_name\\lib\\site-packages\\sklearn\\utils\\validation.py:2732: UserWarning: X has feature names, but MLPClassifier was fitted without feature names\n",
      "  warnings.warn(\n"
     ]
    }
   ],
   "source": [
    "from sklearn.neural_network import MLPClassifier\n",
    "from sklearn.metrics import classification_report, confusion_matrix\n",
    "\n",
    "# Create the model\n",
    "mlp = MLPClassifier(hidden_layer_sizes=(64, 64,32),  #3 hidden layers with 64 and 32 neurons\n",
    "                    activation='relu',\n",
    "                    solver='adam',\n",
    "                    max_iter=100,\n",
    "                    random_state=42)\n",
    "\n",
    "# Train the model\n",
    "mlp.fit(X_train, y_train.values.ravel())  # make sure y_train is 1D\n",
    "\n",
    "# Predict on test data\n",
    "y_pred = mlp.predict(X_test)\n",
    "\n",
    "# Evaluate\n",
    "print(\"Confusion Matrix:\")\n",
    "print(confusion_matrix(y_test, y_pred))\n",
    "\n",
    "print(\"\\nClassification Report:\")\n",
    "print(classification_report(y_test, y_pred))\n"
   ]
  },
  {
   "cell_type": "code",
   "execution_count": 32,
   "id": "0307fafc",
   "metadata": {},
   "outputs": [
    {
     "data": {
      "text/plain": [
       "['mlp_model.pkl']"
      ]
     },
     "execution_count": 32,
     "metadata": {},
     "output_type": "execute_result"
    }
   ],
   "source": [
    "joblib.dump(mlp, 'mlp_model.pkl')"
   ]
  },
  {
   "cell_type": "code",
   "execution_count": null,
   "id": "5e1ed387",
   "metadata": {},
   "outputs": [],
   "source": []
  }
 ],
 "metadata": {
  "kernelspec": {
   "display_name": "env_name",
   "language": "python",
   "name": "python3"
  },
  "language_info": {
   "codemirror_mode": {
    "name": "ipython",
    "version": 3
   },
   "file_extension": ".py",
   "mimetype": "text/x-python",
   "name": "python",
   "nbconvert_exporter": "python",
   "pygments_lexer": "ipython3",
   "version": "3.10.16"
  }
 },
 "nbformat": 4,
 "nbformat_minor": 5
}
